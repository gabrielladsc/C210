{
  "nbformat": 4,
  "nbformat_minor": 0,
  "metadata": {
    "colab": {
      "name": "C210_EX2_Aprendizado_de_maquina_Regressão.ipynb",
      "provenance": [],
      "authorship_tag": "ABX9TyPTr7HwRfoipoAARMgBy3y4",
      "include_colab_link": true
    },
    "kernelspec": {
      "name": "python3",
      "display_name": "Python 3"
    }
  },
  "cells": [
    {
      "cell_type": "markdown",
      "metadata": {
        "id": "view-in-github",
        "colab_type": "text"
      },
      "source": [
        "<a href=\"https://colab.research.google.com/github/gabrielladsc/C210/blob/master/C210_EX2_Aprendizado_de_maquina_Regress%C3%A3o.ipynb\" target=\"_parent\"><img src=\"https://colab.research.google.com/assets/colab-badge.svg\" alt=\"Open In Colab\"/></a>"
      ]
    },
    {
      "cell_type": "code",
      "metadata": {
        "id": "odsG69V84ed_"
      },
      "source": [
        "import pandas as pd"
      ],
      "execution_count": 1,
      "outputs": []
    },
    {
      "cell_type": "code",
      "metadata": {
        "id": "dCcoFKDP5uEH"
      },
      "source": [
        "df = pd.read_csv(\"kc_house_data.csv\", sep=\",\")\r\n",
        "df.head()"
      ],
      "execution_count": null,
      "outputs": []
    },
    {
      "cell_type": "code",
      "metadata": {
        "id": "RKjUEyHR5_dQ"
      },
      "source": [
        "import matplotlib.pyplot as plt"
      ],
      "execution_count": 4,
      "outputs": []
    },
    {
      "cell_type": "code",
      "metadata": {
        "id": "v8VT7Qt96AY3"
      },
      "source": [
        "plt.rcParams[\"figure.dpi\"] = 120\r\n",
        "plt.scatter(df[\"sqft_living\"], df[\"price\"], color=\"red\")\r\n",
        "plt.title(\"Preço vs Local\")\r\n",
        "plt.xlabel(\"Local\")\r\n",
        "plt.ylabel(\"Preço\")\r\n",
        "plt.show()"
      ],
      "execution_count": null,
      "outputs": []
    },
    {
      "cell_type": "code",
      "metadata": {
        "id": "8kFOByiC7NYA"
      },
      "source": [
        "import numpy as np\r\n",
        "\r\n",
        "data_x = np.array(list(df[\"sqft_living\"])).reshape(-1, 1)\r\n",
        "data_y = np.array(list(df[\"price\"])).reshape(-1, 1)"
      ],
      "execution_count": 18,
      "outputs": []
    },
    {
      "cell_type": "code",
      "metadata": {
        "id": "P4hY3-bP7oso"
      },
      "source": [
        "from sklearn.model_selection import train_test_split\r\n",
        "x_treino, x_teste, y_treino, y_teste = train_test_split(data_x, data_y, test_size=0.2)"
      ],
      "execution_count": 19,
      "outputs": []
    },
    {
      "cell_type": "code",
      "metadata": {
        "id": "Hc-WEUY-7uj-"
      },
      "source": [
        "from sklearn import linear_model\r\n",
        "\r\n",
        "modelo = linear_model.LinearRegression()\r\n",
        "modelo.fit(x_treino, y_treino)"
      ],
      "execution_count": null,
      "outputs": []
    },
    {
      "cell_type": "code",
      "metadata": {
        "id": "vuVZhqaf8AZP"
      },
      "source": [
        "y_predicao = modelo.predict(x_teste)\r\n",
        "\r\n",
        "plt.scatter(df[\"sqft_living\"], df[\"price\"], color=\"green\")\r\n",
        "plt.plot(x_teste, y_predicao, color=\"red\", linewidth=2)\r\n",
        "plt.show()"
      ],
      "execution_count": null,
      "outputs": []
    }
  ]
}